{
  "metadata": {
    "kernelspec": {
      "name": "python",
      "display_name": "Python (Pyodide)",
      "language": "python"
    },
    "language_info": {
      "codemirror_mode": {
        "name": "python",
        "version": 3
      },
      "file_extension": ".py",
      "mimetype": "text/x-python",
      "name": "python",
      "nbconvert_exporter": "python",
      "pygments_lexer": "ipython3",
      "version": "3.8"
    }
  },
  "nbformat_minor": 4,
  "nbformat": 4,
  "cells": [
    {
      "cell_type": "markdown",
      "source": "# Data Science Tools and Ecosystem #\n",
      "metadata": {}
    },
    {
      "cell_type": "markdown",
      "source": "Neste notebook, as Ferramentas e Ecossistema de Ciência de Dados são resumidos",
      "metadata": {}
    },
    {
      "cell_type": "markdown",
      "source": "Algumas das linguagens populares que os Cientistas de Dados usam são:\n1 - Python\n2 - SQL\n3 - R\n4 - Java\n5 - C++",
      "metadata": {}
    },
    {
      "cell_type": "markdown",
      "source": "Algumas das bibliotecas comumente usadas por Cientistas de Dados incluem:\n1 - pandas\n2 - ggplot2\n3 - plotnine\n4 - caret\n5 - scikit-learn\n",
      "metadata": {}
    },
    {
      "cell_type": "markdown",
      "source": "Ferramentas de Ciência de Dados\nJupyter Notebook\nApache Spark\nTensorFlow",
      "metadata": {}
    },
    {
      "cell_type": "markdown",
      "source": "### Abaixo estão alguns exemplos de avaliação de expressões aritméticas em Python: ###\nEsta é uma expressão aritmética simples para multiplicar e depois adicionar inteiros.",
      "metadata": {}
    },
    {
      "cell_type": "code",
      "source": "(3*4)+5",
      "metadata": {
        "trusted": true
      },
      "outputs": [
        {
          "execution_count": 1,
          "output_type": "execute_result",
          "data": {
            "text/plain": "17"
          },
          "metadata": {}
        }
      ],
      "execution_count": 1
    },
    {
      "cell_type": "markdown",
      "source": "Isso converterá 200 minutos em horas dividindo por 60",
      "metadata": {}
    },
    {
      "cell_type": "code",
      "source": "minutos = 200\nhoras = minutos // 60\nminutos_restantes = minutos % 60\nprint(f\"{minutos} minutos equivalem a {horas} e {minutos_restantes} minutos\")",
      "metadata": {
        "trusted": true
      },
      "outputs": [
        {
          "name": "stdout",
          "text": "200 minutos equivalem a 3 e 20 minutos\n",
          "output_type": "stream"
        }
      ],
      "execution_count": 3
    },
    {
      "cell_type": "markdown",
      "source": "**Objetivos:**\n- Listar linguagens populares para ciência de dados\n- Listar ferramentas populares em ciência de dados\n- Fazer códigos simples\n- Aprender a fazer cabeçalhos\n- Aprender a criar novo notebook",
      "metadata": {}
    },
    {
      "cell_type": "markdown",
      "source": "## Autor ##\nVictória Sladkevicius",
      "metadata": {}
    }
  ]
}